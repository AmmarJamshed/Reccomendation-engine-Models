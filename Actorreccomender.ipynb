{
 "cells": [
  {
   "cell_type": "code",
   "execution_count": 20,
   "metadata": {},
   "outputs": [],
   "source": [
    "import numpy as np\n",
    "import tensorflow as tf\n",
    "from sklearn.model_selection import train_test_split"
   ]
  },
  {
   "cell_type": "code",
   "execution_count": 21,
   "metadata": {},
   "outputs": [
    {
     "data": {
      "text/html": [
       "<div>\n",
       "<style scoped>\n",
       "    .dataframe tbody tr th:only-of-type {\n",
       "        vertical-align: middle;\n",
       "    }\n",
       "\n",
       "    .dataframe tbody tr th {\n",
       "        vertical-align: top;\n",
       "    }\n",
       "\n",
       "    .dataframe thead th {\n",
       "        text-align: right;\n",
       "    }\n",
       "</style>\n",
       "<table border=\"1\" class=\"dataframe\">\n",
       "  <thead>\n",
       "    <tr style=\"text-align: right;\">\n",
       "      <th></th>\n",
       "      <th>User ID</th>\n",
       "      <th>Actor ID</th>\n",
       "      <th>Rating</th>\n",
       "    </tr>\n",
       "  </thead>\n",
       "  <tbody>\n",
       "    <tr>\n",
       "      <th>0</th>\n",
       "      <td>1</td>\n",
       "      <td>1</td>\n",
       "      <td>5</td>\n",
       "    </tr>\n",
       "    <tr>\n",
       "      <th>1</th>\n",
       "      <td>1</td>\n",
       "      <td>2</td>\n",
       "      <td>4</td>\n",
       "    </tr>\n",
       "    <tr>\n",
       "      <th>2</th>\n",
       "      <td>1</td>\n",
       "      <td>3</td>\n",
       "      <td>3</td>\n",
       "    </tr>\n",
       "    <tr>\n",
       "      <th>3</th>\n",
       "      <td>2</td>\n",
       "      <td>1</td>\n",
       "      <td>4</td>\n",
       "    </tr>\n",
       "    <tr>\n",
       "      <th>4</th>\n",
       "      <td>2</td>\n",
       "      <td>3</td>\n",
       "      <td>5</td>\n",
       "    </tr>\n",
       "    <tr>\n",
       "      <th>5</th>\n",
       "      <td>3</td>\n",
       "      <td>1</td>\n",
       "      <td>3</td>\n",
       "    </tr>\n",
       "    <tr>\n",
       "      <th>6</th>\n",
       "      <td>3</td>\n",
       "      <td>4</td>\n",
       "      <td>5</td>\n",
       "    </tr>\n",
       "    <tr>\n",
       "      <th>7</th>\n",
       "      <td>4</td>\n",
       "      <td>2</td>\n",
       "      <td>4</td>\n",
       "    </tr>\n",
       "    <tr>\n",
       "      <th>8</th>\n",
       "      <td>4</td>\n",
       "      <td>5</td>\n",
       "      <td>5</td>\n",
       "    </tr>\n",
       "    <tr>\n",
       "      <th>9</th>\n",
       "      <td>5</td>\n",
       "      <td>3</td>\n",
       "      <td>4</td>\n",
       "    </tr>\n",
       "    <tr>\n",
       "      <th>10</th>\n",
       "      <td>5</td>\n",
       "      <td>5</td>\n",
       "      <td>5</td>\n",
       "    </tr>\n",
       "  </tbody>\n",
       "</table>\n",
       "</div>"
      ],
      "text/plain": [
       "    User ID  Actor ID  Rating\n",
       "0         1         1       5\n",
       "1         1         2       4\n",
       "2         1         3       3\n",
       "3         2         1       4\n",
       "4         2         3       5\n",
       "5         3         1       3\n",
       "6         3         4       5\n",
       "7         4         2       4\n",
       "8         4         5       5\n",
       "9         5         3       4\n",
       "10        5         5       5"
      ]
     },
     "execution_count": 21,
     "metadata": {},
     "output_type": "execute_result"
    }
   ],
   "source": [
    "import pandas as pd\n",
    "df = pd.read_csv(r'actors.csv')\n",
    "df"
   ]
  },
  {
   "cell_type": "code",
   "execution_count": 35,
   "metadata": {},
   "outputs": [
    {
     "name": "stdout",
     "output_type": "stream",
     "text": [
      "X_train: (8,)\n",
      "y_train: (8, 2)\n",
      "X_test: (3,)\n",
      "y_test: (3, 2)\n"
     ]
    }
   ],
   "source": [
    "# Split the dataset into training and test sets\n",
    "X = df['Rating']\n",
    "y = df.drop('Rating', axis=1)\n",
    "X_train, X_test, y_train, y_test = train_test_split(X, y, test_size=0.2, random_state=42)\n",
    "\n",
    "# Print the shapes of the training and test sets\n",
    "print('X_train:', X_train.shape)\n",
    "print('y_train:', y_train.shape)\n",
    "print('X_test:', X_test.shape)\n",
    "print('y_test:', y_test.shape)"
   ]
  },
  {
   "cell_type": "markdown",
   "metadata": {},
   "source": [
    "### Class for layers"
   ]
  },
  {
   "cell_type": "code",
   "execution_count": 36,
   "metadata": {},
   "outputs": [],
   "source": [
    "class MyModel(tf.keras.Model):\n",
    "    def __init__(self):\n",
    "        super(MyModel, self).__init__()\n",
    "        self.dense_layer = tf.keras.layers.Dense(128, activation='relu')\n",
    "        self.output_layer = tf.keras.layers.Dense(1, activation='sigmoid')\n",
    "\n",
    "    def call(self, inputs):\n",
    "        outputs = self.dense_layer(inputs)\n",
    "        outputs = self.output_layer(outputs)\n",
    "        return outputs"
   ]
  },
  {
   "cell_type": "markdown",
   "metadata": {},
   "source": [
    "### Call Function"
   ]
  },
  {
   "cell_type": "code",
   "execution_count": 37,
   "metadata": {},
   "outputs": [],
   "source": [
    " def call(self, inputs):\n",
    "    user_id, actor_id = inputs\n",
    "\n",
    "    # Combine the user ID and actor ID\n",
    "    combined_input = tf.concat([user_id, actor_id], axis=1)\n",
    "\n",
    "    # Pass the combined input through the hidden layers\n",
    "    hidden_output_1 = self.hidden_layer_1(combined_input)\n",
    "    hidden_output_2 = self.hidden_layer_2(hidden_output_1)\n",
    "\n",
    "    # Predict the rating\n",
    "    rating = self.output_layer(hidden_output_2)\n",
    "\n",
    "    return rating"
   ]
  },
  {
   "cell_type": "markdown",
   "metadata": {},
   "source": [
    "### Model input"
   ]
  },
  {
   "cell_type": "code",
   "execution_count": 38,
   "metadata": {},
   "outputs": [
    {
     "name": "stdout",
     "output_type": "stream",
     "text": [
      "Epoch 1/10\n",
      "1/1 [==============================] - 0s 316ms/step - loss: 7.4516\n",
      "Epoch 2/10\n",
      "1/1 [==============================] - 0s 4ms/step - loss: 7.3481\n",
      "Epoch 3/10\n",
      "1/1 [==============================] - 0s 4ms/step - loss: 7.2478\n",
      "Epoch 4/10\n",
      "1/1 [==============================] - 0s 4ms/step - loss: 7.1510\n",
      "Epoch 5/10\n",
      "1/1 [==============================] - 0s 4ms/step - loss: 7.0582\n",
      "Epoch 6/10\n",
      "1/1 [==============================] - 0s 4ms/step - loss: 6.9695\n",
      "Epoch 7/10\n",
      "1/1 [==============================] - 0s 5ms/step - loss: 6.8852\n",
      "Epoch 8/10\n",
      "1/1 [==============================] - 0s 5ms/step - loss: 6.8051\n",
      "Epoch 9/10\n",
      "1/1 [==============================] - 0s 6ms/step - loss: 6.7295\n",
      "Epoch 10/10\n",
      "1/1 [==============================] - 0s 6ms/step - loss: 6.6584\n"
     ]
    },
    {
     "data": {
      "text/plain": [
       "<keras.callbacks.History at 0x7fd47c79de20>"
      ]
     },
     "execution_count": 38,
     "metadata": {},
     "output_type": "execute_result"
    }
   ],
   "source": [
    "# Create the model\n",
    "model = MyModel()\n",
    "\n",
    "# Compile the model\n",
    "model.compile(optimizer='adam', loss='mse')\n",
    "\n",
    "# Train the model\n",
    "model.fit(X_train, y_train, epochs=10)"
   ]
  },
  {
   "cell_type": "code",
   "execution_count": 46,
   "metadata": {},
   "outputs": [
    {
     "name": "stdout",
     "output_type": "stream",
     "text": [
      "1/1 [==============================] - 0s 19ms/step - loss: 0.0000e+00\n"
     ]
    },
    {
     "name": "stderr",
     "output_type": "stream",
     "text": [
      "WARNING:absl:Found untraced functions such as _update_step_xla while saving (showing 1 of 1). These functions will not be directly callable after loading.\n"
     ]
    },
    {
     "name": "stdout",
     "output_type": "stream",
     "text": [
      "INFO:tensorflow:Assets written to: model.h2/assets\n"
     ]
    },
    {
     "name": "stderr",
     "output_type": "stream",
     "text": [
      "INFO:tensorflow:Assets written to: model.h2/assets\n"
     ]
    }
   ],
   "source": [
    "# Evaluate the model on the test set\n",
    "check = model.evaluate(X_test)\n",
    "check\n",
    "# Save the trained model\n",
    "model.save('model.h2')"
   ]
  },
  {
   "cell_type": "code",
   "execution_count": 51,
   "metadata": {},
   "outputs": [
    {
     "name": "stdout",
     "output_type": "stream",
     "text": [
      "None\n"
     ]
    }
   ],
   "source": [
    "# Load the model\n",
    "model = tf.keras.models.load_model('model.h2')\n",
    "\n",
    "# Get the model's signature\n",
    "signature = model.inputs\n",
    "\n",
    "print(signature)"
   ]
  },
  {
   "cell_type": "code",
   "execution_count": 58,
   "metadata": {},
   "outputs": [
    {
     "name": "stdout",
     "output_type": "stream",
     "text": [
      "tf.Tensor(\n",
      "[[1.93783522e-01 3.37781943e-02 1.64234340e-01 2.08388895e-01\n",
      "  5.30664343e-03 1.15706161e-01 0.00000000e+00 5.25447056e-02\n",
      "  1.05435029e-04 0.00000000e+00 1.73981115e-01 1.85097247e-01\n",
      "  1.40910745e-01 1.25278756e-01 1.29572570e-01 1.46785915e-01\n",
      "  1.50751859e-01 0.00000000e+00 0.00000000e+00 8.98543298e-02\n",
      "  0.00000000e+00 1.01773202e-01 0.00000000e+00 9.87026319e-02\n",
      "  1.91304132e-01 1.59708858e-01 0.00000000e+00 0.00000000e+00\n",
      "  1.84746221e-01 1.08061448e-01 0.00000000e+00 1.87442541e-01\n",
      "  1.35994390e-01 0.00000000e+00 0.00000000e+00 1.37629882e-01\n",
      "  0.00000000e+00 2.25080013e-01 1.74698070e-01 1.20804682e-01\n",
      "  0.00000000e+00 0.00000000e+00 0.00000000e+00 9.54914391e-02\n",
      "  1.45268574e-01 5.54780141e-02 0.00000000e+00 1.32178918e-01\n",
      "  1.85684338e-01 4.78183590e-02 0.00000000e+00 1.92706063e-01\n",
      "  2.16694713e-01 3.88125926e-02 0.00000000e+00 0.00000000e+00\n",
      "  6.01990111e-02 9.27269906e-02 0.00000000e+00 1.35031715e-01\n",
      "  0.00000000e+00 9.39302966e-02 1.49019375e-01 0.00000000e+00\n",
      "  1.16831407e-01 0.00000000e+00 1.25851452e-01 1.93678275e-01\n",
      "  0.00000000e+00 0.00000000e+00 9.19068903e-02 0.00000000e+00\n",
      "  0.00000000e+00 1.81512088e-01 0.00000000e+00 0.00000000e+00\n",
      "  1.87631801e-01 0.00000000e+00 6.65033013e-02 0.00000000e+00\n",
      "  1.87823400e-02 0.00000000e+00 0.00000000e+00 1.48020402e-01\n",
      "  0.00000000e+00 0.00000000e+00 2.21971452e-01 0.00000000e+00\n",
      "  0.00000000e+00 0.00000000e+00 0.00000000e+00 1.73614696e-01\n",
      "  1.31253675e-01 0.00000000e+00 1.45138353e-01 0.00000000e+00\n",
      "  0.00000000e+00 1.04039319e-01 1.79978937e-01 0.00000000e+00\n",
      "  0.00000000e+00 0.00000000e+00 1.14540607e-01 1.75716907e-01\n",
      "  0.00000000e+00 0.00000000e+00 0.00000000e+00 1.87573344e-01\n",
      "  0.00000000e+00 1.10131145e-01 0.00000000e+00 0.00000000e+00\n",
      "  1.22715905e-02 1.07234567e-01 1.15364447e-01 0.00000000e+00\n",
      "  1.67554036e-01 1.28026515e-01 0.00000000e+00 5.69275059e-02\n",
      "  0.00000000e+00 2.49104835e-02 8.44538063e-02 2.38763243e-02\n",
      "  1.69890136e-01 0.00000000e+00 1.51679009e-01 6.76718131e-02]\n",
      " [6.00838959e-01 1.20915413e-01 4.72947478e-01 6.05225563e-01\n",
      "  3.53964791e-02 3.66468668e-01 0.00000000e+00 1.37851208e-01\n",
      "  1.97720826e-02 0.00000000e+00 5.02150655e-01 5.35514951e-01\n",
      "  4.42365021e-01 3.95474195e-01 3.68959486e-01 4.58596885e-01\n",
      "  4.71921444e-01 3.39032151e-04 0.00000000e+00 2.49786511e-01\n",
      "  0.00000000e+00 2.85490960e-01 0.00000000e+00 2.76290804e-01\n",
      "  5.54150224e-01 4.59362447e-01 0.00000000e+00 0.00000000e+00\n",
      "  5.34458339e-01 3.43844473e-01 0.00000000e+00 5.42559206e-01\n",
      "  3.88139516e-01 0.00000000e+00 0.00000000e+00 4.32538092e-01\n",
      "  0.00000000e+00 6.55484915e-01 5.43763876e-01 3.81946772e-01\n",
      "  0.00000000e+00 0.00000000e+00 0.00000000e+00 2.66723901e-01\n",
      "  4.55455124e-01 1.86102092e-01 0.00000000e+00 4.15529102e-01\n",
      "  5.73817492e-01 1.63104594e-01 0.00000000e+00 5.58317184e-01\n",
      "  6.30308807e-01 1.35839313e-01 0.00000000e+00 0.00000000e+00\n",
      "  2.00239226e-01 2.97809184e-01 0.00000000e+00 3.85322273e-01\n",
      "  0.00000000e+00 2.62022495e-01 4.66721714e-01 0.00000000e+00\n",
      "  3.30506861e-01 0.00000000e+00 3.57795149e-01 5.61284542e-01\n",
      "  0.00000000e+00 0.00000000e+00 2.95384437e-01 0.00000000e+00\n",
      "  0.00000000e+00 5.24773955e-01 0.00000000e+00 0.00000000e+00\n",
      "  5.43070018e-01 0.00000000e+00 2.19098747e-01 0.00000000e+00\n",
      "  7.54137635e-02 0.00000000e+00 0.00000000e+00 4.62513536e-01\n",
      "  0.00000000e+00 0.00000000e+00 6.46146894e-01 0.00000000e+00\n",
      "  0.00000000e+00 0.00000000e+00 0.00000000e+00 5.40501952e-01\n",
      "  3.73984069e-01 0.00000000e+00 4.55083966e-01 0.00000000e+00\n",
      "  0.00000000e+00 2.92333364e-01 5.59485853e-01 0.00000000e+00\n",
      "  0.00000000e+00 0.00000000e+00 3.63283306e-01 5.07389426e-01\n",
      "  0.00000000e+00 0.00000000e+00 0.00000000e+00 5.82112253e-01\n",
      "  0.00000000e+00 3.10638756e-01 0.00000000e+00 0.00000000e+00\n",
      "  5.64124733e-02 3.41334820e-01 3.65756363e-01 0.00000000e+00\n",
      "  4.82908368e-01 3.64329338e-01 0.00000000e+00 1.50994152e-01\n",
      "  0.00000000e+00 9.41411927e-02 2.33530968e-01 9.12772715e-02\n",
      "  4.89857882e-01 0.00000000e+00 4.74686652e-01 1.83217481e-01]], shape=(2, 128), dtype=float32)\n"
     ]
    }
   ],
   "source": [
    "# Get the layer\n",
    "layer = model.layers[0]\n",
    "\n",
    "# Create an input tensor\n",
    "input_tensor = tf.constant([1, 3], dtype=tf.int64)\n",
    "\n",
    "# Reshape the input tensor\n",
    "input_tensor = tf.reshape(input_tensor, (-1, 1))\n",
    "\n",
    "# Pass the input tensor to the layer\n",
    "output_tensor = layer(input_tensor)\n",
    "\n",
    "print(output_tensor)"
   ]
  },
  {
   "cell_type": "markdown",
   "metadata": {},
   "source": [
    "#### test the model"
   ]
  },
  {
   "cell_type": "code",
   "execution_count": 61,
   "metadata": {},
   "outputs": [
    {
     "name": "stdout",
     "output_type": "stream",
     "text": [
      "tf.Tensor([[0.5857042]], shape=(1, 1), dtype=float32)\n"
     ]
    }
   ],
   "source": [
    "# Load the model\n",
    "model = tf.keras.models.load_model('model.h2')\n",
    "\n",
    "# Create two input tensors\n",
    "input_tensor_1 = tf.constant([1], dtype=tf.int64)\n",
    "input_tensor_2 = tf.constant([3], dtype=tf.int64)\n",
    "\n",
    "# Reshape the input tensors\n",
    "input_tensor_1 = tf.reshape(input_tensor_1, (-1, 1))\n",
    "input_tensor_2 = tf.reshape(input_tensor_2, (-1, 1))\n",
    "\n",
    "# Concatenate the input tensors\n",
    "input_tensors = tf.concat([input_tensor_1, input_tensor_2], axis=1)\n",
    "\n",
    "# Predict the rating\n",
    "rating = model(input_tensor_1)\n",
    "\n",
    "print(rating)"
   ]
  },
  {
   "cell_type": "markdown",
   "metadata": {},
   "source": [
    "### Deploy the model as a pickle file"
   ]
  },
  {
   "cell_type": "markdown",
   "metadata": {},
   "source": [
    "#### create pickle file"
   ]
  },
  {
   "cell_type": "code",
   "execution_count": 64,
   "metadata": {},
   "outputs": [
    {
     "name": "stdout",
     "output_type": "stream",
     "text": [
      "Keras weights file (<HDF5 file \"variables.h5\" (mode r+)>) saving:\n",
      "...dense_layer\n",
      "......vars\n",
      ".........0\n",
      ".........1\n",
      "...layers\n",
      "......dense_1\n",
      ".........vars\n",
      "............0\n",
      "............1\n",
      "...optimizer\n",
      "......vars\n",
      ".........0\n",
      "...vars\n",
      "Keras model archive saving:\n",
      "File Name                                             Modified             Size\n",
      "config.json                                    2023-10-01 23:05:22          119\n",
      "variables.h5                                   2023-10-01 23:05:22        12464\n",
      "metadata.json                                  2023-10-01 23:05:22           64\n"
     ]
    }
   ],
   "source": [
    "import pickle\n",
    "\n",
    "# Save the model\n",
    "with open('saved_model.pb', 'wb') as f:\n",
    "    pickle.dump(model, f)"
   ]
  },
  {
   "cell_type": "code",
   "execution_count": null,
   "metadata": {},
   "outputs": [],
   "source": []
  }
 ],
 "metadata": {
  "kernelspec": {
   "display_name": "Python 3",
   "language": "python",
   "name": "python3"
  },
  "language_info": {
   "codemirror_mode": {
    "name": "ipython",
    "version": 3
   },
   "file_extension": ".py",
   "mimetype": "text/x-python",
   "name": "python",
   "nbconvert_exporter": "python",
   "pygments_lexer": "ipython3",
   "version": "3.8.5"
  }
 },
 "nbformat": 4,
 "nbformat_minor": 4
}
